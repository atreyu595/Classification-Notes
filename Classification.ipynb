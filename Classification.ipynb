{
 "cells": [
  {
   "cell_type": "markdown",
   "id": "30dd7f5e-401e-4e9f-bbf6-e62cd5f341d2",
   "metadata": {},
   "source": [
    "<h1>Classification</h1>"
   ]
  },
  {
   "cell_type": "code",
   "execution_count": 3,
   "id": "7fb6755a-115f-48c2-9f72-fbf32261107c",
   "metadata": {
    "tags": []
   },
   "outputs": [],
   "source": [
    "#import necessary libraries for data wrangling and visualization\n",
    "import numpy as np\n",
    "import pandas as pd\n",
    "import matplotlib.pyplot as plt\n",
    "import seaborn as sns\n",
    "import matplotlib as mpl\n",
    "from sklearn.datasets import fetch_openml\n",
    "\n",
    "#import machine learning libraries and modules\n",
    "from sklearn.model_selection import train_test_split"
   ]
  },
  {
   "cell_type": "code",
   "execution_count": 6,
   "id": "b7fe9e33-d136-4914-8f1e-adae4b71a8ba",
   "metadata": {
    "tags": []
   },
   "outputs": [
    {
     "name": "stderr",
     "output_type": "stream",
     "text": [
      "D:\\Anaconda\\Lib\\site-packages\\sklearn\\datasets\\_openml.py:1002: FutureWarning: The default value of `parser` will change from `'liac-arff'` to `'auto'` in 1.4. You can set `parser='auto'` to silence this warning. Therefore, an `ImportError` will be raised from 1.4 if the dataset is dense and pandas is not installed. Note that the pandas parser may return different data types. See the Notes Section in fetch_openml's API doc for details.\n",
      "  warn(\n"
     ]
    }
   ],
   "source": [
    "mnist = fetch_openml('mnist_784', version=1)"
   ]
  },
  {
   "cell_type": "code",
   "execution_count": 7,
   "id": "30a8c101-f1fc-43a5-bb80-d3ca3cbf337f",
   "metadata": {
    "tags": []
   },
   "outputs": [
    {
     "data": {
      "text/plain": [
       "dict_keys(['data', 'target', 'frame', 'categories', 'feature_names', 'target_names', 'DESCR', 'details', 'url'])"
      ]
     },
     "execution_count": 7,
     "metadata": {},
     "output_type": "execute_result"
    }
   ],
   "source": [
    "mnist.keys()"
   ]
  },
  {
   "cell_type": "code",
   "execution_count": 8,
   "id": "fd951d0a-f73f-44a6-aa9c-1eb26f4f553e",
   "metadata": {
    "tags": []
   },
   "outputs": [],
   "source": [
    "X, y = mnist['data'], mnist['target']"
   ]
  },
  {
   "cell_type": "code",
   "execution_count": 10,
   "id": "a5f26ea1-acc1-4c91-aad2-4e43eaae70cd",
   "metadata": {
    "tags": []
   },
   "outputs": [
    {
     "data": {
      "text/plain": [
       "(70000, 784)"
      ]
     },
     "execution_count": 10,
     "metadata": {},
     "output_type": "execute_result"
    }
   ],
   "source": [
    "X.shape"
   ]
  },
  {
   "cell_type": "code",
   "execution_count": 11,
   "id": "c1c22a1e-20ef-4435-824e-03d1b8c5a8ef",
   "metadata": {
    "tags": []
   },
   "outputs": [
    {
     "data": {
      "text/plain": [
       "(70000,)"
      ]
     },
     "execution_count": 11,
     "metadata": {},
     "output_type": "execute_result"
    }
   ],
   "source": [
    "y.shape"
   ]
  },
  {
   "cell_type": "code",
   "execution_count": 32,
   "id": "40620b05-c403-4ca3-bcd7-ddc2c6f325a3",
   "metadata": {
    "tags": []
   },
   "outputs": [
    {
     "data": {
      "text/html": [
       "<div>\n",
       "<style scoped>\n",
       "    .dataframe tbody tr th:only-of-type {\n",
       "        vertical-align: middle;\n",
       "    }\n",
       "\n",
       "    .dataframe tbody tr th {\n",
       "        vertical-align: top;\n",
       "    }\n",
       "\n",
       "    .dataframe thead th {\n",
       "        text-align: right;\n",
       "    }\n",
       "</style>\n",
       "<table border=\"1\" class=\"dataframe\">\n",
       "  <thead>\n",
       "    <tr style=\"text-align: right;\">\n",
       "      <th></th>\n",
       "      <th>pixel1</th>\n",
       "      <th>pixel2</th>\n",
       "      <th>pixel3</th>\n",
       "      <th>pixel4</th>\n",
       "      <th>pixel5</th>\n",
       "      <th>pixel6</th>\n",
       "      <th>pixel7</th>\n",
       "      <th>pixel8</th>\n",
       "      <th>pixel9</th>\n",
       "      <th>pixel10</th>\n",
       "      <th>...</th>\n",
       "      <th>pixel775</th>\n",
       "      <th>pixel776</th>\n",
       "      <th>pixel777</th>\n",
       "      <th>pixel778</th>\n",
       "      <th>pixel779</th>\n",
       "      <th>pixel780</th>\n",
       "      <th>pixel781</th>\n",
       "      <th>pixel782</th>\n",
       "      <th>pixel783</th>\n",
       "      <th>pixel784</th>\n",
       "    </tr>\n",
       "  </thead>\n",
       "  <tbody>\n",
       "    <tr>\n",
       "      <th>0</th>\n",
       "      <td>0.0</td>\n",
       "      <td>0.0</td>\n",
       "      <td>0.0</td>\n",
       "      <td>0.0</td>\n",
       "      <td>0.0</td>\n",
       "      <td>0.0</td>\n",
       "      <td>0.0</td>\n",
       "      <td>0.0</td>\n",
       "      <td>0.0</td>\n",
       "      <td>0.0</td>\n",
       "      <td>...</td>\n",
       "      <td>0.0</td>\n",
       "      <td>0.0</td>\n",
       "      <td>0.0</td>\n",
       "      <td>0.0</td>\n",
       "      <td>0.0</td>\n",
       "      <td>0.0</td>\n",
       "      <td>0.0</td>\n",
       "      <td>0.0</td>\n",
       "      <td>0.0</td>\n",
       "      <td>0.0</td>\n",
       "    </tr>\n",
       "  </tbody>\n",
       "</table>\n",
       "<p>1 rows × 784 columns</p>\n",
       "</div>"
      ],
      "text/plain": [
       "   pixel1  pixel2  pixel3  pixel4  pixel5  pixel6  pixel7  pixel8  pixel9  \\\n",
       "0     0.0     0.0     0.0     0.0     0.0     0.0     0.0     0.0     0.0   \n",
       "\n",
       "   pixel10  ...  pixel775  pixel776  pixel777  pixel778  pixel779  pixel780  \\\n",
       "0      0.0  ...       0.0       0.0       0.0       0.0       0.0       0.0   \n",
       "\n",
       "   pixel781  pixel782  pixel783  pixel784  \n",
       "0       0.0       0.0       0.0       0.0  \n",
       "\n",
       "[1 rows x 784 columns]"
      ]
     },
     "execution_count": 32,
     "metadata": {},
     "output_type": "execute_result"
    }
   ],
   "source": [
    "#get first image \n",
    "X.iloc[[0]]"
   ]
  },
  {
   "cell_type": "code",
   "execution_count": 34,
   "id": "24003cce-2cd1-49a6-b950-ef0fc9d1fc0f",
   "metadata": {
    "tags": []
   },
   "outputs": [
    {
     "data": {
      "text/plain": [
       "<bound method Series.keys of 0        5\n",
       "1        0\n",
       "2        4\n",
       "3        1\n",
       "4        9\n",
       "        ..\n",
       "69995    2\n",
       "69996    3\n",
       "69997    4\n",
       "69998    5\n",
       "69999    6\n",
       "Name: class, Length: 70000, dtype: uint8>"
      ]
     },
     "execution_count": 34,
     "metadata": {},
     "output_type": "execute_result"
    }
   ],
   "source": [
    "y.keys"
   ]
  },
  {
   "cell_type": "code",
   "execution_count": 30,
   "id": "f6e427e7-3b64-4b1b-9de9-8c47be23696a",
   "metadata": {
    "tags": []
   },
   "outputs": [
    {
     "data": {
      "text/plain": [
       "<matplotlib.image.AxesImage at 0x19417526790>"
      ]
     },
     "execution_count": 30,
     "metadata": {},
     "output_type": "execute_result"
    },
    {
     "data": {
      "image/png": "[encoded data removed]",
      "text/plain": [
       "<Figure size 640x480 with 1 Axes>"
      ]
     },
     "metadata": {},
     "output_type": "display_data"
    }
   ],
   "source": [
    "some_digit = np.array(X.iloc[[1]])\n",
    "some_digit_image = some_digit.reshape(28,28)\n",
    "plt.imshow(some_digit_image, cmap='binary')"
   ]
  },
  {
   "cell_type": "code",
   "execution_count": 23,
   "id": "d751435f-2ae6-4ce7-b2f8-d76eb276e01d",
   "metadata": {
    "tags": []
   },
   "outputs": [
    {
     "data": {
      "text/plain": [
       "'5'"
      ]
     },
     "execution_count": 23,
     "metadata": {},
     "output_type": "execute_result"
    }
   ],
   "source": [
    "y[0]"
   ]
  },
  {
   "cell_type": "code",
   "execution_count": 25,
   "id": "29be5126-bfde-43dc-b15b-47e202757fc8",
   "metadata": {
    "tags": []
   },
   "outputs": [],
   "source": [
    "#convert target to int\n",
    "y = y.astype('uint8')"
   ]
  },
  {
   "cell_type": "code",
   "execution_count": 27,
   "id": "ab038e2f-c100-4140-97a9-edd67c5611c9",
   "metadata": {
    "tags": []
   },
   "outputs": [
    {
     "data": {
      "text/plain": [
       "dtype('uint8')"
      ]
     },
     "execution_count": 27,
     "metadata": {},
     "output_type": "execute_result"
    }
   ],
   "source": [
    "y.dtype"
   ]
  },
  {
   "cell_type": "markdown",
   "id": "b4005022-2c5a-4344-88b9-171adff92725",
   "metadata": {
    "tags": []
   },
   "source": [
    "<h2>Binary Classifier</h2>"
   ]
  },
  {
   "cell_type": "markdown",
   "id": "e016cdc0-21cd-44d9-abac-485e0a573f36",
   "metadata": {},
   "source": [
    "- Use a SGDClassifier: Stochastic Gradient Descent Classifier\n",
    "- This classifier is very good at classifying very large datasets efficiently\n",
    "- SGD looks at one instance at a time rather than all instances"
   ]
  },
  {
   "cell_type": "code",
   "execution_count": 42,
   "id": "105ff7bc-251e-454f-9fdb-b4e90e13ddf6",
   "metadata": {
    "tags": []
   },
   "outputs": [
    {
     "data": {
      "text/html": [
       "<style>#sk-container-id-2 {color: black;}#sk-container-id-2 pre{padding: 0;}#sk-container-id-2 div.sk-toggleable {background-color: white;}#sk-container-id-2 label.sk-toggleable__label {cursor: pointer;display: block;width: 100%;margin-bottom: 0;padding: 0.3em;box-sizing: border-box;text-align: center;}#sk-container-id-2 label.sk-toggleable__label-arrow:before {content: \"▸\";float: left;margin-right: 0.25em;color: #696969;}#sk-container-id-2 label.sk-toggleable__label-arrow:hover:before {color: black;}#sk-container-id-2 div.sk-estimator:hover label.sk-toggleable__label-arrow:before {color: black;}#sk-container-id-2 div.sk-toggleable__content {max-height: 0;max-width: 0;overflow: hidden;text-align: left;background-color: #f0f8ff;}#sk-container-id-2 div.sk-toggleable__content pre {margin: 0.2em;color: black;border-radius: 0.25em;background-color: #f0f8ff;}#sk-container-id-2 input.sk-toggleable__control:checked~div.sk-toggleable__content {max-height: 200px;max-width: 100%;overflow: auto;}#sk-container-id-2 input.sk-toggleable__control:checked~label.sk-toggleable__label-arrow:before {content: \"▾\";}#sk-container-id-2 div.sk-estimator input.sk-toggleable__control:checked~label.sk-toggleable__label {background-color: #d4ebff;}#sk-container-id-2 div.sk-label input.sk-toggleable__control:checked~label.sk-toggleable__label {background-color: #d4ebff;}#sk-container-id-2 input.sk-hidden--visually {border: 0;clip: rect(1px 1px 1px 1px);clip: rect(1px, 1px, 1px, 1px);height: 1px;margin: -1px;overflow: hidden;padding: 0;position: absolute;width: 1px;}#sk-container-id-2 div.sk-estimator {font-family: monospace;background-color: #f0f8ff;border: 1px dotted black;border-radius: 0.25em;box-sizing: border-box;margin-bottom: 0.5em;}#sk-container-id-2 div.sk-estimator:hover {background-color: #d4ebff;}#sk-container-id-2 div.sk-parallel-item::after {content: \"\";width: 100%;border-bottom: 1px solid gray;flex-grow: 1;}#sk-container-id-2 div.sk-label:hover label.sk-toggleable__label {background-color: #d4ebff;}#sk-container-id-2 div.sk-serial::before {content: \"\";position: absolute;border-left: 1px solid gray;box-sizing: border-box;top: 0;bottom: 0;left: 50%;z-index: 0;}#sk-container-id-2 div.sk-serial {display: flex;flex-direction: column;align-items: center;background-color: white;padding-right: 0.2em;padding-left: 0.2em;position: relative;}#sk-container-id-2 div.sk-item {position: relative;z-index: 1;}#sk-container-id-2 div.sk-parallel {display: flex;align-items: stretch;justify-content: center;background-color: white;position: relative;}#sk-container-id-2 div.sk-item::before, #sk-container-id-2 div.sk-parallel-item::before {content: \"\";position: absolute;border-left: 1px solid gray;box-sizing: border-box;top: 0;bottom: 0;left: 50%;z-index: -1;}#sk-container-id-2 div.sk-parallel-item {display: flex;flex-direction: column;z-index: 1;position: relative;background-color: white;}#sk-container-id-2 div.sk-parallel-item:first-child::after {align-self: flex-end;width: 50%;}#sk-container-id-2 div.sk-parallel-item:last-child::after {align-self: flex-start;width: 50%;}#sk-container-id-2 div.sk-parallel-item:only-child::after {width: 0;}#sk-container-id-2 div.sk-dashed-wrapped {border: 1px dashed gray;margin: 0 0.4em 0.5em 0.4em;box-sizing: border-box;padding-bottom: 0.4em;background-color: white;}#sk-container-id-2 div.sk-label label {font-family: monospace;font-weight: bold;display: inline-block;line-height: 1.2em;}#sk-container-id-2 div.sk-label-container {text-align: center;}#sk-container-id-2 div.sk-container {/* jupyter's `normalize.less` sets `[hidden] { display: none; }` but bootstrap.min.css set `[hidden] { display: none !important; }` so we also need the `!important` here to be able to override the default hidden behavior on the sphinx rendered scikit-learn.org. See: https://github.com/scikit-learn/scikit-learn/issues/21755 */display: inline-block !important;position: relative;}#sk-container-id-2 div.sk-text-repr-fallback {display: none;}</style><div id=\"sk-container-id-2\" class=\"sk-top-container\"><div class=\"sk-text-repr-fallback\"><pre>SGDClassifier(random_state=42)</pre><b>In a Jupyter environment, please rerun this cell to show the HTML representation or trust the notebook. <br />On GitHub, the HTML representation is unable to render, please try loading this page with nbviewer.org.</b></div><div class=\"sk-container\" hidden><div class=\"sk-item\"><div class=\"sk-estimator sk-toggleable\"><input class=\"sk-toggleable__control sk-hidden--visually\" id=\"sk-estimator-id-2\" type=\"checkbox\" checked><label for=\"sk-estimator-id-2\" class=\"sk-toggleable__label sk-toggleable__label-arrow\">SGDClassifier</label><div class=\"sk-toggleable__content\"><pre>SGDClassifier(random_state=42)</pre></div></div></div></div></div>"
      ],
      "text/plain": [
       "SGDClassifier(random_state=42)"
      ]
     },
     "execution_count": 42,
     "metadata": {},
     "output_type": "execute_result"
    }
   ],
   "source": [
    "#Look at a yes/no classification of the target variable 5 i.e. is the instance a 5 or not 5?\n",
    "from sklearn.linear_model import SGDClassifier\n",
    "\n",
    "#split data to train and test \n",
    "X_train, X_test, y_train, y_test = X[:60000], X[60000:], y[:60000], y[60000:]\n",
    "\n",
    "#creates new array which searches for all 5 in y_train, True if it's 5 otherwise false\n",
    "y_train_5 = (y_train == 5)\n",
    "y_test_5 = (y_test == 5)\n",
    "sgd_clf = SGDClassifier(random_state=42)\n",
    "sgd_clf.fit(X_train, y_train_5)"
   ]
  },
  {
   "cell_type": "code",
   "execution_count": 39,
   "id": "12821bba-3f02-42c3-bc47-7193431b8ef3",
   "metadata": {
    "tags": []
   },
   "outputs": [
    {
     "name": "stderr",
     "output_type": "stream",
     "text": [
      "D:\\Anaconda\\Lib\\site-packages\\sklearn\\base.py:464: UserWarning: X does not have valid feature names, but SGDClassifier was fitted with feature names\n",
      "  warnings.warn(\n"
     ]
    },
    {
     "data": {
      "text/plain": [
       "array([False])"
      ]
     },
     "execution_count": 39,
     "metadata": {},
     "output_type": "execute_result"
    }
   ],
   "source": [
    "sgd_clf.predict(some_digit)"
   ]
  },
  {
   "cell_type": "markdown",
   "id": "6f0acbad-167f-45f0-905c-3a915df26fa2",
   "metadata": {},
   "source": [
    "- SGDClassifier relies on randomness during training "
   ]
  },
  {
   "cell_type": "markdown",
   "id": "aead930d-b26b-40d8-a087-c8c0243a5fa0",
   "metadata": {
    "tags": []
   },
   "source": [
    "<h2>Performance Measures</h2>"
   ]
  },
  {
   "cell_type": "markdown",
   "id": "4fa974a1-b656-41cf-9f0f-22ca878cd129",
   "metadata": {},
   "source": [
    "<h3>Cross-Validation</h3>"
   ]
  },
  {
   "cell_type": "code",
   "execution_count": 47,
   "id": "492adbf7-6c8b-442c-a9ac-c6d85011c1cd",
   "metadata": {
    "tags": []
   },
   "outputs": [],
   "source": [
    "from sklearn.model_selection import cross_val_score\n",
    "\n",
    "cross_val_score_sgd = cross_val_score(sgd_clf, X_train, y_train_5, cv = 5, scoring='accuracy')"
   ]
  },
  {
   "cell_type": "code",
   "execution_count": 48,
   "id": "24ae6ff8-456f-4126-b74f-62177700ad73",
   "metadata": {
    "tags": []
   },
   "outputs": [
    {
     "data": {
      "text/plain": [
       "array([0.95466667, 0.96975   , 0.9635    , 0.96533333, 0.94841667])"
      ]
     },
     "execution_count": 48,
     "metadata": {},
     "output_type": "execute_result"
    }
   ],
   "source": [
    "cross_val_score_sgd"
   ]
  },
  {
   "cell_type": "markdown",
   "id": "7b571007-f583-4eb1-8484-66c1783f6d41",
   "metadata": {},
   "source": [
    "Issues:\n",
    "- Not always the best measure for classifiers\n",
    "- not good for skewed datasets \"imbalanced datasets\"\n"
   ]
  },
  {
   "cell_type": "markdown",
   "id": "0c60be7c-2593-4372-87d2-e91d2fd4fcee",
   "metadata": {},
   "source": [
    "<h3>Confusion Matrix</h3>\n",
    "\n",
    "- Very good measure for skewed datasets\n",
    "- Idea: get no. of instances of a target class which got misclassified with another target class\n",
    "- E.g. get no. of instances where \"5\" got classified as \"3\"\n",
    "\n",
    "<b>We are comparing the ratios between actuals vs predicted classes</b>"
   ]
  },
  {
   "cell_type": "markdown",
   "id": "d7a88b42-33d0-421f-bbe2-c004d44b0de2",
   "metadata": {},
   "source": [
    "- First we need to get predicted classes to compare with our actual classes.\n",
    "- We can make predictions with our test set\n",
    "- But, we should only use the test set when we want to roll out our model at the end.\n",
    "\n",
    "We can get predicted classes using *cross_val_predict*"
   ]
  },
  {
   "cell_type": "code",
   "execution_count": 50,
   "id": "f2410ccf-5ab7-4a2e-a90b-c4ff19f500e4",
   "metadata": {
    "tags": []
   },
   "outputs": [],
   "source": [
    "from sklearn.model_selection import cross_val_predict\n",
    "\n",
    "cross_val_predict_sgd = cross_val_predict(sgd_clf, X_train, y_train_5, cv=5)"
   ]
  },
  {
   "cell_type": "code",
   "execution_count": 52,
   "id": "84a0a11b-02a3-46ff-bcf2-3ea3e38eec50",
   "metadata": {
    "tags": []
   },
   "outputs": [
    {
     "data": {
      "text/plain": [
       "array([[53115,  1464],\n",
       "       [  916,  4505]], dtype=int64)"
      ]
     },
     "execution_count": 52,
     "metadata": {},
     "output_type": "execute_result"
    }
   ],
   "source": [
    "from sklearn.metrics import confusion_matrix\n",
    "\n",
    "confusion_matrix_sgd = confusion_matrix(y_train_5, cross_val_predict_sgd)\n",
    "confusion_matrix_sgd"
   ]
  },
  {
   "cell_type": "code",
   "execution_count": 61,
   "id": "f9b6d031-dd94-45e3-9d17-b127692b5785",
   "metadata": {
    "tags": []
   },
   "outputs": [
    {
     "data": {
      "image/png": "[encoded data removed]",
      "text/plain": [
       "<Figure size 640x480 with 2 Axes>"
      ]
     },
     "metadata": {},
     "output_type": "display_data"
    }
   ],
   "source": [
    "#to make it prettier\n",
    "import seaborn as sns\n",
    "import matplotlib.pyplot as plt     \n",
    "\n",
    "ax= plt.subplot()\n",
    "sns.heatmap(confusion_matrix_sgd, annot=True, fmt='g', ax=ax);  #annot=True to annotate cells, ftm='g' to disable scientific notation\n",
    "\n",
    "# labels, title and ticks\n",
    "ax.set_xlabel('Predicted labels')\n",
    "ax.set_ylabel('True labels') \n",
    "ax.set_title('Confusion Matrix')\n",
    "ax.xaxis.set_ticklabels(['False', 'True']);\n",
    "ax.yaxis.set_ticklabels(['False', 'True']);"
   ]
  },
  {
   "cell_type": "markdown",
   "id": "728c3e8a-0d96-4675-9d22-9cf765d03a0a",
   "metadata": {},
   "source": [
    "- TOP LEFT = TN = 53115\n",
    "- TOP RIGHT = FP = 1464\n",
    "- BOTTOM LEFT = FN = 916\n",
    "- BOTTOM RIGHT = TP = 4505"
   ]
  },
  {
   "cell_type": "markdown",
   "id": "b02e4c0a-f53d-4eef-ac63-5127e0508706",
   "metadata": {},
   "source": [
    "- Column = Predicted\n",
    "- Row = Actual\n",
    "- e.g. False-False = The actual class which is not 5, was CORRECTLY PREDICTED as not 5\n",
    "- e.g. False-True = The actual class which is not 5, was INCORRECTLY PREDICTED as 5\n"
   ]
  },
  {
   "cell_type": "code",
   "execution_count": 62,
   "id": "d171bb8a-4387-48f7-9b1a-1f91dfa83794",
   "metadata": {
    "tags": []
   },
   "outputs": [
    {
     "data": {
      "text/plain": [
       "53115"
      ]
     },
     "execution_count": 62,
     "metadata": {},
     "output_type": "execute_result"
    }
   ],
   "source": [
    "#TRUE NEGATIVE\n",
    "confusion_matrix_sgd[0][0]"
   ]
  },
  {
   "cell_type": "code",
   "execution_count": 63,
   "id": "7702d15b-0cea-4208-8e41-1661c36f4b3f",
   "metadata": {
    "tags": []
   },
   "outputs": [
    {
     "data": {
      "text/plain": [
       "1464"
      ]
     },
     "execution_count": 63,
     "metadata": {},
     "output_type": "execute_result"
    }
   ],
   "source": [
    "#FALSE POSITIVE\n",
    "confusion_matrix_sgd[0][1]"
   ]
  },
  {
   "cell_type": "code",
   "execution_count": 64,
   "id": "07db7fc8-bcd0-4b61-bc96-dd70b2a63e28",
   "metadata": {
    "tags": []
   },
   "outputs": [
    {
     "data": {
      "text/plain": [
       "916"
      ]
     },
     "execution_count": 64,
     "metadata": {},
     "output_type": "execute_result"
    }
   ],
   "source": [
    "#FALSE NEGATIVE\n",
    "confusion_matrix_sgd[1][0]"
   ]
  },
  {
   "cell_type": "code",
   "execution_count": 65,
   "id": "c0723f39-ed15-4704-97de-a52817ecc109",
   "metadata": {
    "tags": []
   },
   "outputs": [
    {
     "data": {
      "text/plain": [
       "4505"
      ]
     },
     "execution_count": 65,
     "metadata": {},
     "output_type": "execute_result"
    }
   ],
   "source": [
    "#TRUE POSITIVE\n",
    "confusion_matrix_sgd[1][1]"
   ]
  },
  {
   "cell_type": "markdown",
   "id": "c0852e99-0289-4ea3-ad5b-d95fb19b0ced",
   "metadata": {
    "tags": []
   },
   "source": [
    "<h3>Precision</h3>\n",
    "\n"
   ]
  },
  {
   "cell_type": "markdown",
   "id": "1b7b3bcd-f459-488e-ab6e-d4d9a4e1b08e",
   "metadata": {},
   "source": [
    "We can look at accuracy of positive predictions\n",
    "- TP: True Positives\n",
    "- FP: False Positives\n",
    "$$\n",
    "    Precision = TP \\ / \\ (TP+FP)\n",
    "$$"
   ]
  },
  {
   "cell_type": "code",
   "execution_count": 68,
   "id": "842bc2a6-1e92-49c8-8597-9b332dd6643f",
   "metadata": {
    "tags": []
   },
   "outputs": [
    {
     "data": {
      "text/plain": [
       "0.7547327860613168"
      ]
     },
     "execution_count": 68,
     "metadata": {},
     "output_type": "execute_result"
    }
   ],
   "source": [
    "precision = confusion_matrix_sgd[1][1]/(confusion_matrix_sgd[1][1] + confusion_matrix_sgd[0][1])\n",
    "precision"
   ]
  },
  {
   "cell_type": "markdown",
   "id": "6a5a2a53-7e27-472c-bca1-470796011496",
   "metadata": {},
   "source": [
    "<h3>Recall</h3>"
   ]
  },
  {
   "cell_type": "markdown",
   "id": "153a75e4-a281-4743-b098-8de20bf058e4",
   "metadata": {},
   "source": [
    "We can look at ratio of all positive instances that are correctly detected by the classifier\n",
    "- TP: True Positives\n",
    "- FN: False Negatives\n",
    "$$\n",
    "    Recall = TP \\ / \\ (TP + FN)\n",
    "$$"
   ]
  },
  {
   "cell_type": "code",
   "execution_count": 83,
   "id": "0e77a1d0-3a69-4d7f-9102-a1820226372a",
   "metadata": {
    "tags": []
   },
   "outputs": [
    {
     "data": {
      "text/plain": [
       "0.8310274857037447"
      ]
     },
     "execution_count": 83,
     "metadata": {},
     "output_type": "execute_result"
    }
   ],
   "source": [
    "recall = confusion_matrix_sgd[1][1]/(confusion_matrix_sgd[1][1] + confusion_matrix_sgd[1][0])\n",
    "recall"
   ]
  },
  {
   "cell_type": "code",
   "execution_count": 82,
   "id": "cedaafc9-ca0a-4c6d-9c64-997a2381ce18",
   "metadata": {
    "tags": []
   },
   "outputs": [
    {
     "name": "stdout",
     "output_type": "stream",
     "text": [
      "Precision 0.7547327860613168 \n",
      " Recall 0.8310274857037447\n"
     ]
    }
   ],
   "source": [
    "from sklearn.metrics import precision_score, recall_score\n",
    "\n",
    "precision_score_sgd = precision_score(y_train_5, cross_val_predict_sgd)\n",
    "recall_score_sgd = recall_score(y_train_5, cross_val_predict_sgd)\n",
    "print(\"Precision \" + precision_score_sgd.astype(str), \"\\n\", \"Recall \" + recall_score_sgd.astype(str))\n"
   ]
  },
  {
   "cell_type": "markdown",
   "id": "420da98a-a3a2-433e-8ab9-7e4eba229510",
   "metadata": {
    "tags": []
   },
   "source": [
    "<h3>F1 Score</h3>"
   ]
  },
  {
   "cell_type": "markdown",
   "id": "296628dc-6223-47db-b0cc-b4f22014d097",
   "metadata": {},
   "source": [
    "We can combine precision and recall to get $F_{1} score$ or the *harmonic mean*\n",
    "\n",
    "<b>NOTE: Regular mean treats all values equally, harmonic mean gives much more weight to low values.</b>\n",
    "\n",
    "$$\n",
    "    F_{1} = 2 \\ * \\ ((precision \\ * \\ recall) \\ / \\ (precision \\ + \\ recall)) \n",
    "$$"
   ]
  },
  {
   "cell_type": "code",
   "execution_count": 84,
   "id": "649cbd30-b354-4778-9fc0-ea6524e74f82",
   "metadata": {
    "tags": []
   },
   "outputs": [
    {
     "data": {
      "text/plain": [
       "0.791044776119403"
      ]
     },
     "execution_count": 84,
     "metadata": {},
     "output_type": "execute_result"
    }
   ],
   "source": [
    "f1_score = 2 * ((precision*recall)/(precision+recall))\n",
    "f1_score"
   ]
  },
  {
   "cell_type": "markdown",
   "id": "308e1d96-d102-438e-8a20-eb540095f10d",
   "metadata": {},
   "source": [
    "<b>Unfortunately, we want have high recall and high precision at the same time, they are inversely proportional. The balance between them is known as \"Precision Recall Trade Off\""
   ]
  },
  {
   "cell_type": "markdown",
   "id": "c447764b-d418-4983-9f50-7d44b99d85ed",
   "metadata": {},
   "source": [
    "<h3>Precision/Recall Trade Off</h3>"
   ]
  },
  {
   "cell_type": "markdown",
   "id": "454a9af0-1bd3-4ed8-aa59-c5e193d3fc6d",
   "metadata": {},
   "source": [
    "- Each instance, a score is computed based of a *Decision Function*\n",
    "- If the score i greater than a threshold, assign the instance to the positive class\n",
    "- Otherwise, assign it to negative class"
   ]
  },
  {
   "cell_type": "code",
   "execution_count": 92,
   "id": "48a564e8-a380-453d-8bdf-f44818e04840",
   "metadata": {
    "tags": []
   },
   "outputs": [
    {
     "name": "stderr",
     "output_type": "stream",
     "text": [
      "D:\\Anaconda\\Lib\\site-packages\\sklearn\\base.py:464: UserWarning: X does not have valid feature names, but SGDClassifier was fitted with feature names\n",
      "  warnings.warn(\n"
     ]
    },
    {
     "data": {
      "text/plain": [
       "array([-5897.37359354])"
      ]
     },
     "execution_count": 92,
     "metadata": {},
     "output_type": "execute_result"
    }
   ],
   "source": [
    "y_scores = sgd_clf.decision_function(some_digit)\n",
    "y_scores"
   ]
  },
  {
   "cell_type": "code",
   "execution_count": 93,
   "id": "7303338a-9895-43d8-9f17-806db66a6606",
   "metadata": {
    "tags": []
   },
   "outputs": [
    {
     "data": {
      "text/plain": [
       "array([False])"
      ]
     },
     "execution_count": 93,
     "metadata": {},
     "output_type": "execute_result"
    }
   ],
   "source": [
    "threshold = 0\n",
    "y_some_digit_pred = (y_scores > threshold)\n",
    "y_some_digit_pred"
   ]
  },
  {
   "cell_type": "markdown",
   "id": "21a00c42-7a2c-49c2-8a47-7fead79533a8",
   "metadata": {},
   "source": [
    "- Raising the threshold decreases recall, likewise raising recall decreases threshold\n",
    "\n",
    "To determine which threshold to use, we can use <b>method = 'decision_function'</b> in the SGDClassifier"
   ]
  },
  {
   "cell_type": "code",
   "execution_count": 94,
   "id": "09e68643-eabe-43a4-a36a-940bb4097c12",
   "metadata": {
    "tags": []
   },
   "outputs": [],
   "source": [
    "y_scores = cross_val_predict(sgd_clf, X_train, y_train_5, cv = 5, method='decision_function')"
   ]
  },
  {
   "cell_type": "code",
   "execution_count": 95,
   "id": "dd20623e-2b30-47e1-93be-673024ef5c89",
   "metadata": {
    "tags": []
   },
   "outputs": [
    {
     "data": {
      "text/plain": [
       "array([  4411.53413566, -14087.12193543, -21565.51993633, ...,\n",
       "         9394.4695853 ,  -2918.25117218,  -9160.6081938 ])"
      ]
     },
     "execution_count": 95,
     "metadata": {},
     "output_type": "execute_result"
    }
   ],
   "source": [
    "y_scores"
   ]
  },
  {
   "cell_type": "code",
   "execution_count": 98,
   "id": "2fea9d05-4aec-455d-97ff-187a28047ceb",
   "metadata": {
    "tags": []
   },
   "outputs": [
    {
     "name": "stdout",
     "output_type": "stream",
     "text": [
      "[0.09035    0.09035151 0.09035301 ... 1.         1.         1.        ]\n",
      "[1.00000000e+00 1.00000000e+00 1.00000000e+00 ... 3.68935621e-04\n",
      " 1.84467810e-04 0.00000000e+00]\n",
      "[-116288.54262534 -112139.56842955 -110416.13704754 ...   28900.06013894\n",
      "   31207.1376772    33370.36083388]\n"
     ]
    }
   ],
   "source": [
    "from sklearn.metrics import precision_recall_curve\n",
    "\n",
    "precisions, recall, thresholds = precision_recall_curve(y_train_5, y_scores)\n",
    "print(precisions)\n",
    "print(recall)\n",
    "print(thresholds)"
   ]
  },
  {
   "cell_type": "code",
   "execution_count": 104,
   "id": "b8fde341-a9de-4d35-9d0d-18ce75eb15bf",
   "metadata": {
    "tags": []
   },
   "outputs": [],
   "source": [
    "def plot_precision_recall_vs_threshold(precisions, recalls, thresholds):\n",
    "    plt.plot(thresholds, precisions[:-1], \"b--\", label = 'Precisions')\n",
    "    plt.plot(thresholds, recalls[:-1], \"g-\", label = 'Recall')"
   ]
  },
  {
   "cell_type": "code",
   "execution_count": 105,
   "id": "f348a58c-99be-4ddf-863a-0c6973b7f06d",
   "metadata": {
    "tags": []
   },
   "outputs": [
    {
     "data": {
      "image/png": "[encoded data removed]",
      "text/plain": [
       "<Figure size 640x480 with 1 Axes>"
      ]
     },
     "metadata": {},
     "output_type": "display_data"
    }
   ],
   "source": [
    "plot_precision_recall_vs_threshold(precisions, recall, thresholds)"
   ]
  },
  {
   "cell_type": "markdown",
   "id": "dc35b716-fc72-4c27-b92f-09db90c43550",
   "metadata": {},
   "source": [
    "- Precision curves is bumpier than recall because it may go down when the threshold is increased\n",
    "\n",
    "We can also view the Precision VS Recall curve as well"
   ]
  },
  {
   "cell_type": "code",
   "execution_count": 108,
   "id": "6dd3457f-898a-4d18-a058-6adaaba96a16",
   "metadata": {
    "tags": []
   },
   "outputs": [
    {
     "data": {
      "text/plain": [
       "[<matplotlib.lines.Line2D at 0x1941eedd850>]"
      ]
     },
     "execution_count": 108,
     "metadata": {},
     "output_type": "execute_result"
    },
    {
     "data": {
      "image/png": "[encoded data removed]",
      "text/plain": [
       "<Figure size 640x480 with 1 Axes>"
      ]
     },
     "metadata": {},
     "output_type": "display_data"
    }
   ],
   "source": [
    "plt.plot(precisions, recall)"
   ]
  },
  {
   "cell_type": "code",
   "execution_count": 114,
   "id": "6c672595-7f11-45aa-9dee-23aabf2a7df8",
   "metadata": {
    "tags": []
   },
   "outputs": [],
   "source": [
    "threshold_90_precision = thresholds[np.argmax(precisions >= 0.90)]"
   ]
  },
  {
   "cell_type": "code",
   "execution_count": 115,
   "id": "071a2831-b11c-4872-b1c2-fa69f2f9bb51",
   "metadata": {
    "tags": []
   },
   "outputs": [],
   "source": [
    "y_train_pred_90 = (y_scores >= threshold_90_precision)"
   ]
  },
  {
   "cell_type": "code",
   "execution_count": 116,
   "id": "489a5cfb-93c0-4d64-9405-7927c57cefbd",
   "metadata": {
    "tags": []
   },
   "outputs": [
    {
     "data": {
      "text/plain": [
       "0.9002016129032258"
      ]
     },
     "execution_count": 116,
     "metadata": {},
     "output_type": "execute_result"
    }
   ],
   "source": [
    "precision_score(y_train_5, y_train_pred_90)"
   ]
  },
  {
   "cell_type": "code",
   "execution_count": 117,
   "id": "6a6e4424-5b02-4654-8fae-299603d22019",
   "metadata": {
    "tags": []
   },
   "outputs": [
    {
     "data": {
      "text/plain": [
       "0.6589190186312488"
      ]
     },
     "execution_count": 117,
     "metadata": {},
     "output_type": "execute_result"
    }
   ],
   "source": [
    "recall_score(y_train_5, y_train_pred_90)"
   ]
  },
  {
   "cell_type": "code",
   "execution_count": null,
   "id": "0bc4aa99-5210-4e5b-97fe-115ddf0ce0d6",
   "metadata": {},
   "outputs": [],
   "source": []
  },
  {
   "cell_type": "code",
   "execution_count": null,
   "id": "3287f65d-eea1-455e-a76d-a3583af8fa9c",
   "metadata": {},
   "outputs": [],
   "source": []
  }
 ],
 "metadata": {
  "kernelspec": {
   "display_name": "Python 3 (ipykernel)",
   "language": "python",
   "name": "python3"
  },
  "language_info": {
   "codemirror_mode": {
    "name": "ipython",
    "version": 3
   },
   "file_extension": ".py",
   "mimetype": "text/x-python",
   "name": "python",
   "nbconvert_exporter": "python",
   "pygments_lexer": "ipython3",
   "version": "3.11.5"
  }
 },
 "nbformat": 4,
 "nbformat_minor": 5
}
